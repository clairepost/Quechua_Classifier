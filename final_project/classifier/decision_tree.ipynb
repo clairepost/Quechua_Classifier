{
 "cells": [
  {
   "cell_type": "code",
   "execution_count": 6,
   "metadata": {},
   "outputs": [],
   "source": [
    "import numpy as np\n",
    "import pandas as pd\n",
    "import wittgenstein as lw\n",
    "import os\n",
    "import re\n",
    "from sklearn.tree import DecisionTreeClassifier, export_text\n",
    "from sklearn.feature_extraction.text import TfidfVectorizer\n",
    "from sklearn.feature_extraction.text import CountVectorizer\n",
    "from sklearn.model_selection import train_test_split\n",
    "from sklearn.metrics import classification_report"
   ]
  },
  {
   "cell_type": "code",
   "execution_count": 8,
   "metadata": {},
   "outputs": [],
   "source": [
    "def split_document(text, max_length=250, overlap=50):\n",
    "    # Split text into words\n",
    "    words = text.split()\n",
    "    parts = []\n",
    "    if len(words) <= max_length:\n",
    "        return [text]  # Return the entire text if it's short enough\n",
    "\n",
    "    i = 0\n",
    "    while i < len(words):\n",
    "        # Ensure that we don't exceed the text length\n",
    "        end_index = min(i + max_length, len(words))\n",
    "        # Join the selected range of words back into a string\n",
    "        chunk_text = \" \".join(words[i:end_index])\n",
    "        parts.append(chunk_text)\n",
    "        i += (max_length - overlap)\n",
    "    \n",
    "    return parts\n",
    "\n",
    "def load_data(directory_paths):\n",
    "    texts, labels = [], []\n",
    "    for dialect, directory in directory_paths.items():\n",
    "        for filename in os.listdir(directory):\n",
    "            filepath = os.path.join(directory, filename)\n",
    "            with open(filepath, 'r', encoding='latin-1') as file:\n",
    "                text = file.read().strip()\n",
    "                text = re.sub(r'\\d+', '', text)  # Remove numbers\n",
    "                chunks = split_document(text)\n",
    "                for chunk in chunks:\n",
    "                    texts.append(chunk)\n",
    "                    labels.append(dialect)  # Each chunk gets the same label as the original document\n",
    "    return texts, labels\n",
    "\n",
    "\n",
    "\n",
    "\n",
    "# Define your directory paths correctly\n",
    "directory_paths = {\n",
    "    # 'other': '../language_resources/dialects_mixed_txt/other_quechua/',\n",
    "    'qub': '../language_resources/dialects_mixed_txt/qub',\n",
    "    'quf': '../language_resources/dialects_mixed_txt/quf',\n",
    "    'quh': '../language_resources/dialects_mixed_txt/quh',\n",
    "    'quk': '../language_resources/dialects_mixed_txt/quk',\n",
    "    'qul': '../language_resources/dialects_mixed_txt/qul',\n",
    "    'qup': '../language_resources/dialects_mixed_txt/qup',\n",
    "    'quw': '../language_resources/dialects_mixed_txt/quw',\n",
    "    'qux': '../language_resources/dialects_mixed_txt/qux',\n",
    "    'quy': '../language_resources/dialects_mixed_txt/quy',\n",
    "    'quz': '../language_resources/dialects_mixed_txt/quz', \n",
    "    'qvc': '../language_resources/dialects_mixed_txt/qvc',\n",
    "    'qve': '../language_resources/dialects_mixed_txt/qve',  \n",
    "    'qvi': '../language_resources/dialects_mixed_txt/qvi',\n",
    "    'qvm': '../language_resources/dialects_mixed_txt/qvm',\n",
    "    'qvn': '../language_resources/dialects_mixed_txt/qvn',\n",
    "    'qvo': '../language_resources/dialects_mixed_txt/qvo',\n",
    "    'qvw': '../language_resources/dialects_mixed_txt/qvw',\n",
    "    'qvz': '../language_resources/dialects_mixed_txt/qvz',\n",
    "    'qwh': '../language_resources/dialects_mixed_txt/qwh',\n",
    "    'qxl': '../language_resources/dialects_mixed_txt/qxl',\n",
    "    'qxh': '../language_resources/dialects_mixed_txt/qxh',\n",
    "    'qxn': '../language_resources/dialects_mixed_txt/qxn',\n",
    "    'qxo': '../language_resources/dialects_mixed_txt/qxo',\n",
    "    'qxr': '../language_resources/dialects_mixed_txt/qxr'\n",
    "    # 'southern': '../language_resources/dialects_mixed_txt/southern_quechua'\n",
    "}\n"
   ]
  },
  {
   "cell_type": "code",
   "execution_count": 9,
   "metadata": {},
   "outputs": [
    {
     "name": "stderr",
     "output_type": "stream",
     "text": [
      "ripper.py: .fit: RuntimeWarning: \n",
      "No positive samples. Existing target labels=['qxr', 'qvi', 'quy', 'quk', 'qvw', 'qvo', 'qxh', 'qvm', 'quw', 'qul', 'quh', 'qxl', 'qvn', 'qup', 'quz', 'qve', 'qxo', 'qxn', 'qwh', 'quf', 'qux', 'qvc', 'qvz', 'qub'].\n",
      "\n",
      "ripper.py: .fit | base.py: ._check_allpos_allneg: RuntimeWarning: \n",
      "Ruleset is empty. All predictions it makes with method .predict will be negative. It may be untrained or was trained on a dataset split lacking positive examples.\n",
      "\n",
      "base.py: .predict | base.py: ._check_allpos_allneg: RuntimeWarning: \n",
      "Ruleset is empty. All predictions it makes with method .predict will be negative. It may be untrained or was trained on a dataset split lacking positive examples.\n",
      "\n"
     ]
    },
    {
     "ename": "ValueError",
     "evalue": "Mix of label input types (string and number)",
     "output_type": "error",
     "traceback": [
      "\u001b[0;31m---------------------------------------------------------------------------\u001b[0m",
      "\u001b[0;31mValueError\u001b[0m                                Traceback (most recent call last)",
      "Cell \u001b[0;32mIn[9], line 17\u001b[0m\n\u001b[1;32m     15\u001b[0m \u001b[38;5;66;03m# Predict and evaluate\u001b[39;00m\n\u001b[1;32m     16\u001b[0m y_pred \u001b[38;5;241m=\u001b[39m ripper_clf\u001b[38;5;241m.\u001b[39mpredict(X_test)\n\u001b[0;32m---> 17\u001b[0m \u001b[38;5;28mprint\u001b[39m(\u001b[38;5;124m\"\u001b[39m\u001b[38;5;124mClassification Report:\u001b[39m\u001b[38;5;130;01m\\n\u001b[39;00m\u001b[38;5;124m\"\u001b[39m, \u001b[43mclassification_report\u001b[49m\u001b[43m(\u001b[49m\u001b[43my_test\u001b[49m\u001b[43m,\u001b[49m\u001b[43m \u001b[49m\u001b[43my_pred\u001b[49m\u001b[43m)\u001b[49m)\n",
      "File \u001b[0;32m~/opt/anaconda3/envs/nlp_hw/lib/python3.11/site-packages/sklearn/utils/_param_validation.py:213\u001b[0m, in \u001b[0;36mvalidate_params.<locals>.decorator.<locals>.wrapper\u001b[0;34m(*args, **kwargs)\u001b[0m\n\u001b[1;32m    207\u001b[0m \u001b[38;5;28;01mtry\u001b[39;00m:\n\u001b[1;32m    208\u001b[0m     \u001b[38;5;28;01mwith\u001b[39;00m config_context(\n\u001b[1;32m    209\u001b[0m         skip_parameter_validation\u001b[38;5;241m=\u001b[39m(\n\u001b[1;32m    210\u001b[0m             prefer_skip_nested_validation \u001b[38;5;129;01mor\u001b[39;00m global_skip_validation\n\u001b[1;32m    211\u001b[0m         )\n\u001b[1;32m    212\u001b[0m     ):\n\u001b[0;32m--> 213\u001b[0m         \u001b[38;5;28;01mreturn\u001b[39;00m \u001b[43mfunc\u001b[49m\u001b[43m(\u001b[49m\u001b[38;5;241;43m*\u001b[39;49m\u001b[43margs\u001b[49m\u001b[43m,\u001b[49m\u001b[43m \u001b[49m\u001b[38;5;241;43m*\u001b[39;49m\u001b[38;5;241;43m*\u001b[39;49m\u001b[43mkwargs\u001b[49m\u001b[43m)\u001b[49m\n\u001b[1;32m    214\u001b[0m \u001b[38;5;28;01mexcept\u001b[39;00m InvalidParameterError \u001b[38;5;28;01mas\u001b[39;00m e:\n\u001b[1;32m    215\u001b[0m     \u001b[38;5;66;03m# When the function is just a wrapper around an estimator, we allow\u001b[39;00m\n\u001b[1;32m    216\u001b[0m     \u001b[38;5;66;03m# the function to delegate validation to the estimator, but we replace\u001b[39;00m\n\u001b[1;32m    217\u001b[0m     \u001b[38;5;66;03m# the name of the estimator by the name of the function in the error\u001b[39;00m\n\u001b[1;32m    218\u001b[0m     \u001b[38;5;66;03m# message to avoid confusion.\u001b[39;00m\n\u001b[1;32m    219\u001b[0m     msg \u001b[38;5;241m=\u001b[39m re\u001b[38;5;241m.\u001b[39msub(\n\u001b[1;32m    220\u001b[0m         \u001b[38;5;124mr\u001b[39m\u001b[38;5;124m\"\u001b[39m\u001b[38;5;124mparameter of \u001b[39m\u001b[38;5;124m\\\u001b[39m\u001b[38;5;124mw+ must be\u001b[39m\u001b[38;5;124m\"\u001b[39m,\n\u001b[1;32m    221\u001b[0m         \u001b[38;5;124mf\u001b[39m\u001b[38;5;124m\"\u001b[39m\u001b[38;5;124mparameter of \u001b[39m\u001b[38;5;132;01m{\u001b[39;00mfunc\u001b[38;5;241m.\u001b[39m\u001b[38;5;18m__qualname__\u001b[39m\u001b[38;5;132;01m}\u001b[39;00m\u001b[38;5;124m must be\u001b[39m\u001b[38;5;124m\"\u001b[39m,\n\u001b[1;32m    222\u001b[0m         \u001b[38;5;28mstr\u001b[39m(e),\n\u001b[1;32m    223\u001b[0m     )\n",
      "File \u001b[0;32m~/opt/anaconda3/envs/nlp_hw/lib/python3.11/site-packages/sklearn/metrics/_classification.py:2607\u001b[0m, in \u001b[0;36mclassification_report\u001b[0;34m(y_true, y_pred, labels, target_names, sample_weight, digits, output_dict, zero_division)\u001b[0m\n\u001b[1;32m   2604\u001b[0m y_type, y_true, y_pred \u001b[38;5;241m=\u001b[39m _check_targets(y_true, y_pred)\n\u001b[1;32m   2606\u001b[0m \u001b[38;5;28;01mif\u001b[39;00m labels \u001b[38;5;129;01mis\u001b[39;00m \u001b[38;5;28;01mNone\u001b[39;00m:\n\u001b[0;32m-> 2607\u001b[0m     labels \u001b[38;5;241m=\u001b[39m \u001b[43munique_labels\u001b[49m\u001b[43m(\u001b[49m\u001b[43my_true\u001b[49m\u001b[43m,\u001b[49m\u001b[43m \u001b[49m\u001b[43my_pred\u001b[49m\u001b[43m)\u001b[49m\n\u001b[1;32m   2608\u001b[0m     labels_given \u001b[38;5;241m=\u001b[39m \u001b[38;5;28;01mFalse\u001b[39;00m\n\u001b[1;32m   2609\u001b[0m \u001b[38;5;28;01melse\u001b[39;00m:\n",
      "File \u001b[0;32m~/opt/anaconda3/envs/nlp_hw/lib/python3.11/site-packages/sklearn/utils/multiclass.py:116\u001b[0m, in \u001b[0;36munique_labels\u001b[0;34m(*ys)\u001b[0m\n\u001b[1;32m    114\u001b[0m \u001b[38;5;66;03m# Check that we don't mix string type with number type\u001b[39;00m\n\u001b[1;32m    115\u001b[0m \u001b[38;5;28;01mif\u001b[39;00m \u001b[38;5;28mlen\u001b[39m(\u001b[38;5;28mset\u001b[39m(\u001b[38;5;28misinstance\u001b[39m(label, \u001b[38;5;28mstr\u001b[39m) \u001b[38;5;28;01mfor\u001b[39;00m label \u001b[38;5;129;01min\u001b[39;00m ys_labels)) \u001b[38;5;241m>\u001b[39m \u001b[38;5;241m1\u001b[39m:\n\u001b[0;32m--> 116\u001b[0m     \u001b[38;5;28;01mraise\u001b[39;00m \u001b[38;5;167;01mValueError\u001b[39;00m(\u001b[38;5;124m\"\u001b[39m\u001b[38;5;124mMix of label input types (string and number)\u001b[39m\u001b[38;5;124m\"\u001b[39m)\n\u001b[1;32m    118\u001b[0m \u001b[38;5;28;01mreturn\u001b[39;00m xp\u001b[38;5;241m.\u001b[39masarray(\u001b[38;5;28msorted\u001b[39m(ys_labels))\n",
      "\u001b[0;31mValueError\u001b[0m: Mix of label input types (string and number)"
     ]
    }
   ],
   "source": [
    "# Load data\n",
    "texts, labels = load_data(directory_paths)\n",
    "data = pd.DataFrame({'text': texts, 'label': labels})\n",
    "\n",
    "# Feature extraction (basic example, you might want to customize this)\n",
    "data['text'] = data['text'].apply(lambda x: x.lower())  #  simple text pre-processing\n",
    "\n",
    "# Create train and test sets\n",
    "X_train, X_test, y_train, y_test = train_test_split(data['text'], data['label'], test_size=0.2, random_state=42)\n",
    "\n",
    "# Initialize and train the JRip-like classifier\n",
    "ripper_clf = lw.RIPPER()\n",
    "ripper_clf.fit(X_train, y_train, class_feat='label', pos_class='specific_dialect')\n",
    "\n",
    "# Predict and evaluate\n",
    "y_pred = ripper_clf.predict(X_test)\n",
    "print(\"Classification Report:\\n\", classification_report(y_test, y_pred))"
   ]
  },
  {
   "cell_type": "code",
   "execution_count": 10,
   "metadata": {},
   "outputs": [
    {
     "name": "stderr",
     "output_type": "stream",
     "text": [
      "/Users/clairepost/opt/anaconda3/envs/nlp_hw/lib/python3.11/site-packages/sklearn/feature_extraction/text.py:525: UserWarning: The parameter 'token_pattern' will not be used since 'tokenizer' is not None'\n",
      "  warnings.warn(\n"
     ]
    },
    {
     "ename": "AttributeError",
     "evalue": "'TfidfVectorizer' object has no attribute 'get_feature_names'",
     "output_type": "error",
     "traceback": [
      "\u001b[0;31m---------------------------------------------------------------------------\u001b[0m",
      "\u001b[0;31mAttributeError\u001b[0m                            Traceback (most recent call last)",
      "Cell \u001b[0;32mIn[10], line 13\u001b[0m\n\u001b[1;32m     10\u001b[0m model\u001b[38;5;241m.\u001b[39mfit(X_train, y_train)\n\u001b[1;32m     12\u001b[0m \u001b[38;5;66;03m# Extract rules from the decision tree\u001b[39;00m\n\u001b[0;32m---> 13\u001b[0m tree_rules \u001b[38;5;241m=\u001b[39m export_text(model, feature_names\u001b[38;5;241m=\u001b[39m\u001b[43mvectorizer\u001b[49m\u001b[38;5;241;43m.\u001b[39;49m\u001b[43mget_feature_names\u001b[49m())\n\u001b[1;32m     15\u001b[0m \u001b[38;5;66;03m# Evaluate the model\u001b[39;00m\n\u001b[1;32m     16\u001b[0m y_pred \u001b[38;5;241m=\u001b[39m model\u001b[38;5;241m.\u001b[39mpredict(X_test)\n",
      "\u001b[0;31mAttributeError\u001b[0m: 'TfidfVectorizer' object has no attribute 'get_feature_names'"
     ]
    }
   ],
   "source": [
    "# Load and preprocess data\n",
    "texts, labels = load_data(directory_paths)  # Provide your actual directory paths\n",
    "features, vectorizer = preprocess_texts(texts)\n",
    "\n",
    "# Split the dataset into training and testing sets\n",
    "X_train, X_test, y_train, y_test = train_test_split(features, labels, test_size=0.2, random_state=42)\n",
    "\n",
    "# Train a decision tree model\n",
    "model = DecisionTreeClassifier(random_state=42)\n",
    "model.fit(X_train, y_train)\n",
    "\n",
    "# Extract rules from the decision tree\n",
    "tree_rules = export_text(model, feature_names=vectorizer.get_feature_names())\n",
    "\n",
    "# Evaluate the model\n",
    "y_pred = model.predict(X_test)\n",
    "print(classification_report(y_test, y_pred))\n",
    "\n",
    "# Print the rules\n",
    "print(\"Decision Tree Rules:\\n\", tree_rules)"
   ]
  }
 ],
 "metadata": {
  "kernelspec": {
   "display_name": "nlp_hw",
   "language": "python",
   "name": "python3"
  },
  "language_info": {
   "codemirror_mode": {
    "name": "ipython",
    "version": 3
   },
   "file_extension": ".py",
   "mimetype": "text/x-python",
   "name": "python",
   "nbconvert_exporter": "python",
   "pygments_lexer": "ipython3",
   "version": "3.11.8"
  }
 },
 "nbformat": 4,
 "nbformat_minor": 2
}
