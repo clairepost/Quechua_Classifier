{
 "cells": [
  {
   "cell_type": "code",
   "execution_count": 27,
   "metadata": {},
   "outputs": [],
   "source": [
    "import os\n",
    "import re\n",
    "from sklearn.feature_extraction.text import TfidfVectorizer\n",
    "from sklearn.naive_bayes import MultinomialNB\n",
    "from sklearn.model_selection import train_test_split\n",
    "from sklearn.metrics import accuracy_score, classification_report, confusion_matrix, ConfusionMatrixDisplay, precision_recall_fscore_support\n",
    "import matplotlib.pyplot as plt\n",
    "from sklearn.metrics import confusion_matrix, ConfusionMatrixDisplay\n",
    "\n",
    "# new with rules \n",
    "from rules_polypersonal_combo import preprocess_texts as polypersonal_preprocess\n"
   ]
  },
  {
   "cell_type": "code",
   "execution_count": 28,
   "metadata": {},
   "outputs": [],
   "source": [
    "def split_document(text, max_length=250, overlap=50):\n",
    "    # Split text into words\n",
    "    words = text.split()\n",
    "    parts = []\n",
    "    if len(words) <= max_length:\n",
    "        return [text]  # Return the entire text if it's short enough\n",
    "\n",
    "    i = 0\n",
    "    while i < len(words):\n",
    "        # Ensure that we don't exceed the text length\n",
    "        end_index = min(i + max_length, len(words))\n",
    "        # Join the selected range of words back into a string\n",
    "        chunk_text = \" \".join(words[i:end_index])\n",
    "        parts.append(chunk_text)\n",
    "        i += (max_length - overlap)\n",
    "    \n",
    "    return parts"
   ]
  },
  {
   "cell_type": "code",
   "execution_count": 29,
   "metadata": {},
   "outputs": [],
   "source": [
    "def load_data(directory_paths, use_polypersonal_tags=False, max_chunks=50):\n",
    "    \"\"\"\n",
    "    Load data from directories. Optionally include polypersonal tags in chunks.\n",
    "    \"\"\"\n",
    "    texts, labels = [], []\n",
    "    for dialect, directory in directory_paths.items():\n",
    "        for filename in os.listdir(directory):\n",
    "            if not filename.endswith('.txt'):\n",
    "                continue\n",
    "\n",
    "            filepath = os.path.join(directory, filename)\n",
    "            with open(filepath, 'r', encoding='latin-1') as file:\n",
    "                text = file.read().strip()\n",
    "                text = re.sub(r'\\d+', '', text)  # Remove numbers\n",
    "\n",
    "                # Apply chunking\n",
    "                chunks = split_document(text)\n",
    "                for i, chunk in enumerate(chunks):\n",
    "                    if i >= max_chunks:\n",
    "                        break  # Limit chunks per file for balancing\n",
    "\n",
    "                    if use_polypersonal_tags:\n",
    "                        # Get tags for this chunk\n",
    "                        chunk_tags_list = polypersonal_preprocess(chunk)\n",
    "                        chunk_tags_str = \" \".join(chunk_tags_list)\n",
    "                        chunk = f\"{chunk} {chunk_tags_str}\"  # Append tags to chunk\n",
    "\n",
    "                    texts.append(chunk)\n",
    "                    labels.append(dialect)\n",
    "\n",
    "    return texts, labels\n",
    "\n",
    "\n",
    "def preprocess_texts(texts):\n",
    "    # Define a tokenizer function\n",
    "    def tokenize(text):\n",
    "        # Simple tokenization based on whitespace\n",
    "        return text.split()\n",
    "\n",
    "    # Initialize a TF-IDF Vectorizer without using stop words\n",
    "    vectorizer = TfidfVectorizer(tokenizer=tokenize)\n",
    "    features = vectorizer.fit_transform(texts)\n",
    "    return features, vectorizer\n",
    "\n",
    "\n",
    "\n",
    "def train_model(features, labels):\n",
    "    X_train, X_test, y_train, y_test = train_test_split(features, labels, test_size=0.2, random_state=42)\n",
    "    model = MultinomialNB()\n",
    "    model.fit(X_train, y_train)\n",
    "    preds = model.predict(X_test)\n",
    "    print(\"Accuracy:\", accuracy_score(y_test, preds))\n",
    "    # Weighted metrics\n",
    "    precision, recall, f1_score, _ = precision_recall_fscore_support(\n",
    "        y_test, preds, average=\"weighted\"\n",
    "    )\n",
    "    print(\"Precision:\", precision)\n",
    "    print(\"Recall:\", recall)\n",
    "    print(\"F1 Score:\", f1_score)\n",
    "    print(\"Classification Report:\\n\", classification_report(y_test, preds))\n",
    "\n",
    "\n",
    "\n"
   ]
  },
  {
   "cell_type": "code",
   "execution_count": 30,
   "metadata": {},
   "outputs": [
    {
     "name": "stderr",
     "output_type": "stream",
     "text": [
      "/Users/clairepost/opt/anaconda3/envs/nlp_hw/lib/python3.11/site-packages/sklearn/feature_extraction/text.py:525: UserWarning: The parameter 'token_pattern' will not be used since 'tokenizer' is not None'\n",
      "  warnings.warn(\n"
     ]
    },
    {
     "name": "stdout",
     "output_type": "stream",
     "text": [
      "Loaded 22542 texts and 22542 labels.\n",
      "Features shape: (22542, 796445)\n",
      "\n",
      "===== Training WITHOUT Tags =====\n",
      "Accuracy: 0.9461077844311377\n",
      "Precision: 0.9538516770568719\n",
      "Recall: 0.9461077844311377\n",
      "F1 Score: 0.938526468572067\n",
      "Classification Report:\n",
      "               precision    recall  f1-score   support\n",
      "\n",
      "         inb       1.00      0.99      1.00       120\n",
      "         qub       1.00      0.99      0.99        93\n",
      "         quf       1.00      1.00      1.00       120\n",
      "         quh       0.99      0.85      0.92       239\n",
      "         quk       0.00      0.00      0.00         7\n",
      "         qul       1.00      0.97      0.98       135\n",
      "         qup       1.00      1.00      1.00       143\n",
      "         quw       1.00      0.99      1.00       103\n",
      "         qux       0.91      0.16      0.27        62\n",
      "         quy       1.00      0.99      1.00       457\n",
      "         quz       0.77      1.00      0.87       672\n",
      "         qvc       1.00      1.00      1.00       114\n",
      "         qve       1.00      0.32      0.48       119\n",
      "         qvh       1.00      0.99      0.99        99\n",
      "         qvi       1.00      0.98      0.99       111\n",
      "         qvm       1.00      0.99      1.00       121\n",
      "         qvn       1.00      1.00      1.00       104\n",
      "         qvo       1.00      0.70      0.82       100\n",
      "         qvs       0.98      0.99      0.99       113\n",
      "         qvw       1.00      0.99      1.00       119\n",
      "         qvz       1.00      1.00      1.00       110\n",
      "         qwh       1.00      0.96      0.98       232\n",
      "         qxh       1.00      1.00      1.00       100\n",
      "         qxl       1.00      1.00      1.00       100\n",
      "         qxn       0.97      1.00      0.99       362\n",
      "         qxo       1.00      0.90      0.95       112\n",
      "         qxr       0.91      1.00      0.95       342\n",
      "\n",
      "    accuracy                           0.95      4509\n",
      "   macro avg       0.95      0.88      0.90      4509\n",
      "weighted avg       0.95      0.95      0.94      4509\n",
      "\n"
     ]
    },
    {
     "name": "stderr",
     "output_type": "stream",
     "text": [
      "/Users/clairepost/opt/anaconda3/envs/nlp_hw/lib/python3.11/site-packages/sklearn/metrics/_classification.py:1509: UndefinedMetricWarning: Precision is ill-defined and being set to 0.0 in labels with no predicted samples. Use `zero_division` parameter to control this behavior.\n",
      "  _warn_prf(average, modifier, f\"{metric.capitalize()} is\", len(result))\n",
      "/Users/clairepost/opt/anaconda3/envs/nlp_hw/lib/python3.11/site-packages/sklearn/metrics/_classification.py:1509: UndefinedMetricWarning: Precision is ill-defined and being set to 0.0 in labels with no predicted samples. Use `zero_division` parameter to control this behavior.\n",
      "  _warn_prf(average, modifier, f\"{metric.capitalize()} is\", len(result))\n",
      "/Users/clairepost/opt/anaconda3/envs/nlp_hw/lib/python3.11/site-packages/sklearn/metrics/_classification.py:1509: UndefinedMetricWarning: Precision is ill-defined and being set to 0.0 in labels with no predicted samples. Use `zero_division` parameter to control this behavior.\n",
      "  _warn_prf(average, modifier, f\"{metric.capitalize()} is\", len(result))\n",
      "/Users/clairepost/opt/anaconda3/envs/nlp_hw/lib/python3.11/site-packages/sklearn/metrics/_classification.py:1509: UndefinedMetricWarning: Precision is ill-defined and being set to 0.0 in labels with no predicted samples. Use `zero_division` parameter to control this behavior.\n",
      "  _warn_prf(average, modifier, f\"{metric.capitalize()} is\", len(result))\n",
      "/Users/clairepost/opt/anaconda3/envs/nlp_hw/lib/python3.11/site-packages/sklearn/feature_extraction/text.py:525: UserWarning: The parameter 'token_pattern' will not be used since 'tokenizer' is not None'\n",
      "  warnings.warn(\n"
     ]
    },
    {
     "name": "stdout",
     "output_type": "stream",
     "text": [
      "Loaded 22542 texts and 22542 labels.\n",
      "Features shape: (22542, 796445)\n"
     ]
    }
   ],
   "source": [
    "# no bible data, only other and augmented data\n",
    "# With new data added\n",
    "directory_paths = {\n",
    "    'inb': '../language_resources/all_data_new_bible_nov26/inb',\n",
    "    'qub': '../language_resources/all_data_new_bible_nov26/qub',\n",
    "    'quf': '../language_resources/all_data_new_bible_nov26/quf',\n",
    "    'quh': '../language_resources/all_data_new_bible_nov26/quh',\n",
    "    'quk': '../language_resources/all_data_new_bible_nov26/quk',\n",
    "    'qul': '../language_resources/all_data_new_bible_nov26/qul',\n",
    "    'qup': '../language_resources/all_data_new_bible_nov26/qup',\n",
    "    'quw': '../language_resources/all_data_new_bible_nov26/quw',\n",
    "    'qux': '../language_resources/all_data_new_bible_nov26/qux',\n",
    "    'quy': '../language_resources/all_data_new_bible_nov26/quy',\n",
    "    'quz': '../language_resources/all_data_new_bible_nov26/quz', \n",
    "    'qvc': '../language_resources/all_data_new_bible_nov26/qvc',\n",
    "    'qve': '../language_resources/all_data_new_bible_nov26/qve',  \n",
    "    'qvi': '../language_resources/all_data_new_bible_nov26/qvi',\n",
    "    'qvh': '../language_resources/all_data_new_bible_nov26/qvh',\n",
    "    'qvm': '../language_resources/all_data_new_bible_nov26/qvm',\n",
    "    'qvn': '../language_resources/all_data_new_bible_nov26/qvn',\n",
    "    'qvo': '../language_resources/all_data_new_bible_nov26/qvo',\n",
    "    'qvs': '../language_resources/all_data_new_bible_nov26/qvs',\n",
    "    'qvw': '../language_resources/all_data_new_bible_nov26/qvw',\n",
    "    'qvz': '../language_resources/all_data_new_bible_nov26/qvz',\n",
    "    'qwh': '../language_resources/all_data_new_bible_nov26/qwh',\n",
    "    'qxl': '../language_resources/all_data_new_bible_nov26/qxl',\n",
    "    'qxh': '../language_resources/all_data_new_bible_nov26/qxh',\n",
    "    'qxn': '../language_resources/all_data_new_bible_nov26/qxn',\n",
    "    'qxo': '../language_resources/all_data_new_bible_nov26/qxo',\n",
    "    'qxr': '../language_resources/all_data_new_bible_nov26/qxr'\n",
    "}\n",
    "\n",
    "\n",
    "\n",
    "# texts, labels = load_data(directory_paths_no_bibles)\n",
    "# features, vectorizer = preprocess_texts(texts)\n",
    "\n",
    "# Load data WITHOUT tags\n",
    "texts_no_tags, labels_no_tags = load_data(directory_paths, use_polypersonal_tags=False)\n",
    "features_no_tags, vectorizer_no_tags = preprocess_texts(texts_no_tags)\n",
    "print(f\"Loaded {len(texts_no_tags)} texts and {len(labels_no_tags)} labels.\")\n",
    "print(f\"Features shape: {features_no_tags.shape}\")\n",
    "\n",
    "# Train and evaluate without tags\n",
    "print(\"\\n===== Training WITHOUT Tags =====\")\n",
    "train_model(features_no_tags, labels_no_tags)\n",
    "\n",
    "# Load data WITH polypersonal tags\n",
    "texts_with_tags, labels_with_tags = load_data(directory_paths, use_polypersonal_tags=True)\n",
    "features_with_tags, vectorizer_with_tags = preprocess_texts(texts_with_tags)\n",
    "print(f\"Loaded {len(texts_with_tags)} texts and {len(labels_with_tags)} labels.\")\n",
    "print(f\"Features shape: {features_with_tags.shape}\")"
   ]
  },
  {
   "cell_type": "code",
   "execution_count": 31,
   "metadata": {},
   "outputs": [],
   "source": [
    "# print(f\"Loaded {len(texts)} texts and {len(labels)} labels.\")\n",
    "# print(f\"Features shape: {features.shape}\")\n",
    "# print(f\"Number of labels: {len(labels)}\")"
   ]
  },
  {
   "cell_type": "code",
   "execution_count": 32,
   "metadata": {},
   "outputs": [
    {
     "name": "stdout",
     "output_type": "stream",
     "text": [
      "\n",
      "===== Training WITH Tags =====\n",
      "Accuracy: 0.9230428032823242\n",
      "Precision: 0.9397673298846612\n",
      "Recall: 0.9230428032823242\n",
      "F1 Score: 0.9064388837424193\n",
      "Classification Report:\n",
      "               precision    recall  f1-score   support\n",
      "\n",
      "         inb       1.00      0.99      1.00       120\n",
      "         qub       1.00      0.98      0.99        93\n",
      "         quf       1.00      1.00      1.00       120\n",
      "         quh       0.99      0.83      0.90       239\n",
      "         quk       0.00      0.00      0.00         7\n",
      "         qul       1.00      0.90      0.95       135\n",
      "         qup       1.00      1.00      1.00       143\n",
      "         quw       1.00      0.99      1.00       103\n",
      "         qux       1.00      0.02      0.03        62\n",
      "         quy       1.00      0.99      1.00       457\n",
      "         quz       0.72      1.00      0.84       672\n",
      "         qvc       1.00      1.00      1.00       114\n",
      "         qve       1.00      0.03      0.07       119\n",
      "         qvh       1.00      0.92      0.96        99\n",
      "         qvi       1.00      0.97      0.99       111\n",
      "         qvm       1.00      0.99      1.00       121\n",
      "         qvn       1.00      1.00      1.00       104\n",
      "         qvo       1.00      0.52      0.68       100\n",
      "         qvs       0.99      0.99      0.99       113\n",
      "         qvw       1.00      0.98      0.99       119\n",
      "         qvz       1.00      1.00      1.00       110\n",
      "         qwh       1.00      0.95      0.97       232\n",
      "         qxh       1.00      1.00      1.00       100\n",
      "         qxl       1.00      1.00      1.00       100\n",
      "         qxn       0.93      1.00      0.96       362\n",
      "         qxo       1.00      0.76      0.86       112\n",
      "         qxr       0.87      1.00      0.93       342\n",
      "\n",
      "    accuracy                           0.92      4509\n",
      "   macro avg       0.94      0.85      0.86      4509\n",
      "weighted avg       0.94      0.92      0.91      4509\n",
      "\n"
     ]
    },
    {
     "name": "stderr",
     "output_type": "stream",
     "text": [
      "/Users/clairepost/opt/anaconda3/envs/nlp_hw/lib/python3.11/site-packages/sklearn/metrics/_classification.py:1509: UndefinedMetricWarning: Precision is ill-defined and being set to 0.0 in labels with no predicted samples. Use `zero_division` parameter to control this behavior.\n",
      "  _warn_prf(average, modifier, f\"{metric.capitalize()} is\", len(result))\n",
      "/Users/clairepost/opt/anaconda3/envs/nlp_hw/lib/python3.11/site-packages/sklearn/metrics/_classification.py:1509: UndefinedMetricWarning: Precision is ill-defined and being set to 0.0 in labels with no predicted samples. Use `zero_division` parameter to control this behavior.\n",
      "  _warn_prf(average, modifier, f\"{metric.capitalize()} is\", len(result))\n",
      "/Users/clairepost/opt/anaconda3/envs/nlp_hw/lib/python3.11/site-packages/sklearn/metrics/_classification.py:1509: UndefinedMetricWarning: Precision is ill-defined and being set to 0.0 in labels with no predicted samples. Use `zero_division` parameter to control this behavior.\n",
      "  _warn_prf(average, modifier, f\"{metric.capitalize()} is\", len(result))\n",
      "/Users/clairepost/opt/anaconda3/envs/nlp_hw/lib/python3.11/site-packages/sklearn/metrics/_classification.py:1509: UndefinedMetricWarning: Precision is ill-defined and being set to 0.0 in labels with no predicted samples. Use `zero_division` parameter to control this behavior.\n",
      "  _warn_prf(average, modifier, f\"{metric.capitalize()} is\", len(result))\n"
     ]
    }
   ],
   "source": [
    "# train_model(features, labels)\n",
    "# Train and evaluate with tags\n",
    "print(\"\\n===== Training WITH Tags =====\")\n",
    "train_model(features_with_tags, labels_with_tags)"
   ]
  },
  {
   "cell_type": "code",
   "execution_count": 33,
   "metadata": {},
   "outputs": [
    {
     "ename": "NameError",
     "evalue": "name 'features' is not defined",
     "output_type": "error",
     "traceback": [
      "\u001b[0;31m---------------------------------------------------------------------------\u001b[0m",
      "\u001b[0;31mNameError\u001b[0m                                 Traceback (most recent call last)",
      "Cell \u001b[0;32mIn[33], line 26\u001b[0m\n\u001b[1;32m     23\u001b[0m     plt\u001b[38;5;241m.\u001b[39mylabel(\u001b[38;5;124m'\u001b[39m\u001b[38;5;124mTrue Labels\u001b[39m\u001b[38;5;124m'\u001b[39m)\n\u001b[1;32m     24\u001b[0m     plt\u001b[38;5;241m.\u001b[39mshow()\n\u001b[0;32m---> 26\u001b[0m train_model(\u001b[43mfeatures\u001b[49m,labels)\n",
      "\u001b[0;31mNameError\u001b[0m: name 'features' is not defined"
     ]
    }
   ],
   "source": [
    "def train_model(features, labels):\n",
    "    X_train, X_test, y_train, y_test = train_test_split(features, labels, test_size=0.2, random_state=42)\n",
    "    model = MultinomialNB()\n",
    "    model.fit(X_train, y_train)\n",
    "    preds = model.predict(X_test)\n",
    "    print(\"Accuracy:\", accuracy_score(y_test, preds))\n",
    "    print(\"Classification Report:\\n\", classification_report(y_test, preds))\n",
    "\n",
    "        # Calculate precision, recall, F1 score, and support\n",
    "    precision, recall, f1_score, _ = precision_recall_fscore_support(y_test, preds, average='weighted')\n",
    "    print(\"Precision:\", precision)\n",
    "    print(\"Recall:\", recall)\n",
    "    print(\"F1 Score:\", f1_score)\n",
    "\n",
    "    # Compute and plot confusion matrix\n",
    "    cm = confusion_matrix(y_test, preds, labels=model.classes_)\n",
    "    disp = ConfusionMatrixDisplay(confusion_matrix=cm, display_labels=model.classes_)\n",
    "    plt.figure(figsize=(10, 10))\n",
    "    disp.plot(cmap=plt.cm.Blues)\n",
    "    plt.title('Confusion Matrix for Naive Bayes No Bibles Classifier')\n",
    "    plt.xticks(rotation=45)\n",
    "    plt.xlabel('Predicted Labels')\n",
    "    plt.ylabel('True Labels')\n",
    "    plt.show()\n",
    "\n",
    "train_model(features,labels)"
   ]
  },
  {
   "cell_type": "code",
   "execution_count": 12,
   "metadata": {},
   "outputs": [
    {
     "name": "stdout",
     "output_type": "stream",
     "text": [
      "Accuracy scores for each fold: [0.71895425 0.81917211 0.72052402 0.63755459 0.77510917]\n",
      "Mean cross-validation accuracy: 0.7342628269163074\n"
     ]
    }
   ],
   "source": [
    "from sklearn.model_selection import cross_val_score\n",
    "from sklearn.naive_bayes import MultinomialNB\n",
    "from sklearn.feature_extraction.text import TfidfVectorizer\n",
    "\n",
    "# Assume 'texts' and 'labels' are loaded and preprocessed\n",
    "vectorizer = TfidfVectorizer()\n",
    "X = vectorizer.fit_transform(texts)\n",
    "y = labels\n",
    "\n",
    "model = MultinomialNB()\n",
    "scores = cross_val_score(model, X, y, cv=5)  # 5-fold cross-validation\n",
    "print(\"Accuracy scores for each fold:\", scores)\n",
    "print(\"Mean cross-validation accuracy:\", scores.mean())\n"
   ]
  },
  {
   "cell_type": "code",
   "execution_count": 13,
   "metadata": {},
   "outputs": [
    {
     "name": "stdout",
     "output_type": "stream",
     "text": [
      "CV Scores: [0.72766885 0.81917211 0.72052402 0.63755459 0.77729258]\n"
     ]
    }
   ],
   "source": [
    "from sklearn.model_selection import cross_val_score\n",
    "from sklearn.naive_bayes import MultinomialNB\n",
    "from sklearn.feature_extraction.text import TfidfVectorizer\n",
    "from sklearn.pipeline import make_pipeline\n",
    "\n",
    "# Assume 'texts' and 'labels' are loaded and prepared\n",
    "vectorizer = TfidfVectorizer()\n",
    "model = MultinomialNB()\n",
    "\n",
    "# Create a pipeline\n",
    "pipeline = make_pipeline(vectorizer, model)\n",
    "\n",
    "# Perform cross-validation\n",
    "cv_scores = cross_val_score(pipeline, texts, labels, cv=5, scoring='accuracy')\n",
    "print(\"CV Scores:\", cv_scores)"
   ]
  },
  {
   "cell_type": "code",
   "execution_count": 14,
   "metadata": {},
   "outputs": [
    {
     "data": {
      "image/png": "[encoded data removed]",
      "text/plain": [
       "<Figure size 800x500 with 1 Axes>"
      ]
     },
     "metadata": {},
     "output_type": "display_data"
    }
   ],
   "source": [
    "import matplotlib.pyplot as plt\n",
    "import seaborn as sns  # for a nicer styling\n",
    "\n",
    "def plot_cv_scores(cv_scores):\n",
    "    # Set the seaborn style for better aesthetics\n",
    "    sns.set(style=\"whitegrid\")\n",
    "\n",
    "    fig, ax = plt.subplots(figsize=(8, 5))  # Bigger size for better readability\n",
    "    ax.plot(range(1, len(cv_scores) + 1), cv_scores, marker='o', linestyle='-', color='#35BFD4', markersize=8, linewidth=2, label='Accuracy per Fold')\n",
    "    \n",
    "    # Adding average line\n",
    "    avg_score = sum(cv_scores) / len(cv_scores)\n",
    "    ax.axhline(y=avg_score, color='#E34A6F', linestyle='--', linewidth=2, label=f'Average Accuracy: {avg_score:.2f}')\n",
    "\n",
    "    # Titles and labels\n",
    "    ax.set_title('Naive Bayes 5-Fold Cross-Validation Accuracies', fontsize=16, fontweight='bold', color='black')\n",
    "    ax.set_xlabel('Fold Number', fontsize=14, fontweight='bold', color='black')\n",
    "    ax.set_ylabel('Accuracy', fontsize=14, fontweight='bold', color='black')\n",
    "    ax.set_xticks(range(1, len(cv_scores) + 1))\n",
    "    ax.set_xticklabels([f\"Fold {i}\" for i in range(1, len(cv_scores) + 1)], color='black')\n",
    "\n",
    "    # Adding a legend\n",
    "    ax.legend(loc='lower left')\n",
    "\n",
    "    plt.show()\n",
    "\n",
    "plot_cv_scores(cv_scores)\n"
   ]
  },
  {
   "cell_type": "code",
   "execution_count": 15,
   "metadata": {},
   "outputs": [
    {
     "ename": "NameError",
     "evalue": "name 'true_labels' is not defined",
     "output_type": "error",
     "traceback": [
      "\u001b[0;31m---------------------------------------------------------------------------\u001b[0m",
      "\u001b[0;31mNameError\u001b[0m                                 Traceback (most recent call last)",
      "Cell \u001b[0;32mIn[15], line 6\u001b[0m\n\u001b[1;32m      2\u001b[0m \u001b[38;5;28;01mimport\u001b[39;00m \u001b[38;5;21;01mpandas\u001b[39;00m \u001b[38;5;28;01mas\u001b[39;00m \u001b[38;5;21;01mpd\u001b[39;00m\n\u001b[1;32m      3\u001b[0m \u001b[38;5;28;01mimport\u001b[39;00m \u001b[38;5;21;01mmatplotlib\u001b[39;00m\u001b[38;5;21;01m.\u001b[39;00m\u001b[38;5;21;01mpyplot\u001b[39;00m \u001b[38;5;28;01mas\u001b[39;00m \u001b[38;5;21;01mplt\u001b[39;00m\n\u001b[0;32m----> 6\u001b[0m report \u001b[38;5;241m=\u001b[39m classification_report(\u001b[43mtrue_labels\u001b[49m, predictions, target_names\u001b[38;5;241m=\u001b[39mdirectory_paths_no_bibles\u001b[38;5;241m.\u001b[39mkeys(), output_dict\u001b[38;5;241m=\u001b[39m\u001b[38;5;28;01mTrue\u001b[39;00m)\n\u001b[1;32m      7\u001b[0m report_df \u001b[38;5;241m=\u001b[39m pd\u001b[38;5;241m.\u001b[39mDataFrame(report)\u001b[38;5;241m.\u001b[39mtranspose()\n\u001b[1;32m      9\u001b[0m report_df\u001b[38;5;241m.\u001b[39mdrop([\u001b[38;5;124m'\u001b[39m\u001b[38;5;124maccuracy\u001b[39m\u001b[38;5;124m'\u001b[39m, \u001b[38;5;124m'\u001b[39m\u001b[38;5;124mmacro avg\u001b[39m\u001b[38;5;124m'\u001b[39m, \u001b[38;5;124m'\u001b[39m\u001b[38;5;124mweighted avg\u001b[39m\u001b[38;5;124m'\u001b[39m], inplace\u001b[38;5;241m=\u001b[39m\u001b[38;5;28;01mTrue\u001b[39;00m)  \u001b[38;5;66;03m# Drop averages/total\u001b[39;00m\n",
      "\u001b[0;31mNameError\u001b[0m: name 'true_labels' is not defined"
     ]
    }
   ],
   "source": [
    "from sklearn.metrics import classification_report\n",
    "import pandas as pd\n",
    "import matplotlib.pyplot as plt\n",
    "\n",
    "\n",
    "report = classification_report(true_labels, predictions, target_names=directory_paths_no_bibles.keys(), output_dict=True)\n",
    "report_df = pd.DataFrame(report).transpose()\n",
    "\n",
    "report_df.drop(['accuracy', 'macro avg', 'weighted avg'], inplace=True)  # Drop averages/total\n",
    "report_df[['precision', 'recall', 'f1-score']].plot(kind='bar', figsize=(12, 6))\n",
    "plt.title('Classification Report for Each Class')\n",
    "plt.ylabel('Score')\n",
    "plt.show()\n"
   ]
  }
 ],
 "metadata": {
  "kernelspec": {
   "display_name": "nlp_hw",
   "language": "python",
   "name": "python3"
  },
  "language_info": {
   "codemirror_mode": {
    "name": "ipython",
    "version": 3
   },
   "file_extension": ".py",
   "mimetype": "text/x-python",
   "name": "python",
   "nbconvert_exporter": "python",
   "pygments_lexer": "ipython3",
   "version": "3.11.8"
  }
 },
 "nbformat": 4,
 "nbformat_minor": 2
}
