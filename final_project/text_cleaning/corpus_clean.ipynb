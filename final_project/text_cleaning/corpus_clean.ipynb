{
 "cells": [
  {
   "cell_type": "code",
   "execution_count": 3,
   "metadata": {},
   "outputs": [
    {
     "name": "stdout",
     "output_type": "stream",
     "text": [
      "Quechua sentences have been extracted and saved.\n"
     ]
    }
   ],
   "source": [
    "from bs4 import BeautifulSoup\n",
    "import re\n",
    "\n",
    "# Read the HTML content from a file\n",
    "with open('../language_resources/dialects/ancash_quechua/original/dictianario_ancash2.txt', 'r', encoding='utf-8') as file:\n",
    "    html_content = file.read()\n",
    "\n",
    "# Use BeautifulSoup to parse the HTML\n",
    "soup = BeautifulSoup(html_content, 'html.parser')\n",
    "\n",
    "module = \"bold\"  # Change this to switch between parsing modules\n",
    "\n",
    "if module == \"bold\":\n",
    "    # Code for extracting sentences that do not contain bold text\n",
    "    quechua_sentences = []\n",
    "    paragraphs = soup.find_all('p')\n",
    "    for paragraph in paragraphs:\n",
    "        if not paragraph.find('b'):\n",
    "            spans = paragraph.find_all('span')\n",
    "            sentence_parts = [span.get_text() for span in spans]\n",
    "            full_sentence = ' '.join(sentence_parts)\n",
    "            clean_text = re.sub(r'\\s+<o:p></o:p>\\s*', '', full_sentence).strip()\n",
    "            quechua_sentences.append(clean_text)\n",
    "\n",
    "    with open('ayacucho_conversation_llullmi.txt', 'w', encoding='utf-8') as file:\n",
    "        for sentence in quechua_sentences:\n",
    "            file.write(sentence + '\\n')\n",
    "\n",
    "    print(\"Quechua sentences have been extracted and saved.\")\n",
    "\n",
    "elif module == \"blue\":\n",
    "    # Code for extracting sentences with a specific blue color\n",
    "    quechua_sentences = []\n",
    "    spans = soup.find_all('span', style=lambda value: value and 'color:#1F497D' in value)\n",
    "    for span in spans:\n",
    "        text = span.get_text()\n",
    "        clean_text = re.sub(r'\\s+<o:p></o:p>\\s*', '', text).strip()\n",
    "        quechua_sentences.append(clean_text)\n",
    "\n",
    "    with open('quechua_colored_sentences.txt', 'w', encoding='utf-8') as file:\n",
    "        for sentence in quechua_sentences:\n",
    "            file.write(sentence + '\\n')\n",
    "\n",
    "    print(\"Quechua sentences with specific blue color have been extracted and saved.\")\n",
    "\n",
    "elif module == \"garamond\":\n",
    "    # New code for extracting sentences styled with Garamond font\n",
    "    quechua_sentences = []\n",
    "    spans = soup.find_all('span', style=lambda value: value and 'font-family:\"Garamond\"' in value)\n",
    "    for span in spans:\n",
    "        text = span.get_text()\n",
    "        clean_text = re.sub(r'\\s+<o:p></o:p>\\s*', '', text).strip()\n",
    "        quechua_sentences.append(clean_text)\n",
    "\n",
    "    with open('quechua_garamond_sentences.txt', 'w', encoding='utf-8') as file:\n",
    "        for sentence in quechua_sentences:\n",
    "            file.write(sentence + '\\n')\n",
    "\n",
    "    print(\"Quechua sentences styled with Garamond font have been extracted and saved.\")\n"
   ]
  },
  {
   "cell_type": "code",
   "execution_count": 4,
   "metadata": {},
   "outputs": [
    {
     "name": "stdout",
     "output_type": "stream",
     "text": [
      "First words from each line have been extracted and saved to 'output_first_words.txt'.\n"
     ]
    }
   ],
   "source": [
    "import sys\n",
    "\n",
    "# Read the text from the file\n",
    "filename = '../language_resources/dialects/ancash_quechua/original/dictianario_ancash2.txt'\n",
    "with open(filename, 'r', encoding='utf-8') as file:\n",
    "    lines = file.readlines()\n",
    "\n",
    "module = \"first\"  # Change the module variable to switch between different processing modes\n",
    "\n",
    "if module == \"first\":\n",
    "    first_words = []\n",
    "    for line in lines:\n",
    "        words = line.strip().split()\n",
    "        if words:  # Check if there is at least one word in the line\n",
    "            first_words.append(words[0])\n",
    "    \n",
    "    # Output the first words to a new file\n",
    "    with open('output_first_words.txt', 'w', encoding='utf-8') as file:\n",
    "        for word in first_words:\n",
    "            file.write(word + '\\n')\n",
    "\n",
    "    print(\"First words from each line have been extracted and saved to 'output_first_words.txt'.\")\n",
    "\n",
    "# Add more elif or else blocks for other functionalities if needed"
   ]
  }
 ],
 "metadata": {
  "kernelspec": {
   "display_name": "nlp_hw",
   "language": "python",
   "name": "python3"
  },
  "language_info": {
   "codemirror_mode": {
    "name": "ipython",
    "version": 3
   },
   "file_extension": ".py",
   "mimetype": "text/x-python",
   "name": "python",
   "nbconvert_exporter": "python",
   "pygments_lexer": "ipython3",
   "version": "3.11.8"
  }
 },
 "nbformat": 4,
 "nbformat_minor": 2
}
